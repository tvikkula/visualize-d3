{
 "cells": [
  {
   "cell_type": "markdown",
   "metadata": {
    "collapsed": false
   },
   "source": [
    "####Load data:"
   ]
  },
  {
   "cell_type": "markdown",
   "metadata": {},
   "source": [
    "A quick look at the batters dataset and it's data fields - their distributions and their relationships."
   ]
  },
  {
   "cell_type": "markdown",
   "metadata": {},
   "source": [
    "Add new data"
   ]
  },
  {
   "cell_type": "code",
   "execution_count": 14,
   "metadata": {
    "collapsed": true
   },
   "outputs": [],
   "source": [
    "def bmi(height, weight):\n",
    "    # In pounds, inches\n",
    "    return weight*0.45 / (height*0.025)**2\n",
    "\n",
    "with open('../data/baseball_data.csv', mode='r') as csvfile:\n",
    "    with open('../data/baseball_new_data.csv', 'w') as csvoutput:\n",
    "        w = csv.writer(csvoutput, lineterminator='\\n')\n",
    "        r = csv.reader(csvfile)\n",
    "        heds = r.next()\n",
    "        heds.append('BMI')\n",
    "        w.writerow(heds)\n",
    "        for item in r:\n",
    "            item.append(bmi(float(item[2]), float(item[3])))\n",
    "            w.writerow(item)"
   ]
  },
  {
   "cell_type": "code",
   "execution_count": 15,
   "metadata": {
    "collapsed": false
   },
   "outputs": [
    {
     "name": "stdout",
     "output_type": "stream",
     "text": [
      "['name', 'handedness', 'height', 'weight', 'avg', 'HR', 'BMI']\n"
     ]
    }
   ],
   "source": [
    "import csv\n",
    "import matplotlib.pyplot as plt\n",
    "from matplotlib import rcParams\n",
    "import numpy as np\n",
    "%matplotlib inline\n",
    "import pprint\n",
    "with open('../data/baseball_new_data.csv', mode='r') as csvfile:\n",
    "    reader = csv.reader(csvfile)\n",
    "    # Ignore headers\n",
    "    headers = reader.next()\n",
    "    data = list(reader)\n",
    "print headers"
   ]
  },
  {
   "cell_type": "markdown",
   "metadata": {},
   "source": [
    "####Handedness distribution:"
   ]
  },
  {
   "cell_type": "code",
   "execution_count": 16,
   "metadata": {
    "collapsed": false
   },
   "outputs": [
    {
     "data": {
      "text/plain": [
       "([<matplotlib.axis.XTick at 0x1065f6450>,\n",
       "  <matplotlib.axis.XTick at 0x1065f6710>,\n",
       "  <matplotlib.axis.XTick at 0x106b5c890>],\n",
       " <a list of 3 Text xticklabel objects>)"
      ]
     },
     "execution_count": 16,
     "metadata": {},
     "output_type": "execute_result"
    },
    {
     "data": {
      "image/png": "[encoded data removed]",
      "text/plain": [
       "<matplotlib.figure.Figure at 0x10657a450>"
      ]
     },
     "metadata": {},
     "output_type": "display_data"
    }
   ],
   "source": [
    "unique, counts = np.unique([i[1] for i in data], return_counts=True)\n",
    "plt.figure()\n",
    "plt.bar([0,1,2], counts)\n",
    "plt.xticks([0.4,1.4,2.4], unique)"
   ]
  },
  {
   "cell_type": "markdown",
   "metadata": {
    "collapsed": true
   },
   "source": [
    "####Height distribution:"
   ]
  },
  {
   "cell_type": "code",
   "execution_count": 17,
   "metadata": {
    "collapsed": false
   },
   "outputs": [
    {
     "name": "stdout",
     "output_type": "stream",
     "text": [
      "1157\n"
     ]
    },
    {
     "data": {
      "text/plain": [
       "(array([   1.,    2.,    4.,   11.,   41.,  112.,  145.,  232.,  194.,\n",
       "         180.,  121.,   66.,   30.,   11.,    7.]),\n",
       " array([ 65.,  66.,  67.,  68.,  69.,  70.,  71.,  72.,  73.,  74.,  75.,\n",
       "         76.,  77.,  78.,  79.,  80.]),\n",
       " <a list of 15 Patch objects>)"
      ]
     },
     "execution_count": 17,
     "metadata": {},
     "output_type": "execute_result"
    },
    {
     "data": {
      "image/png": "[encoded data removed]",
      "text/plain": [
       "<matplotlib.figure.Figure at 0x10631dc90>"
      ]
     },
     "metadata": {},
     "output_type": "display_data"
    }
   ],
   "source": [
    "heights = np.array([float(i[2]) for i in data])\n",
    "print len(heights)\n",
    "plt.figure()\n",
    "plt.hist(heights, bins=15)"
   ]
  },
  {
   "cell_type": "markdown",
   "metadata": {},
   "source": [
    "####Weight distribution:"
   ]
  },
  {
   "cell_type": "code",
   "execution_count": 18,
   "metadata": {
    "collapsed": false
   },
   "outputs": [
    {
     "name": "stdout",
     "output_type": "stream",
     "text": [
      "1157\n"
     ]
    },
    {
     "data": {
      "text/plain": [
       "(array([   1.,   13.,   70.,   67.,  110.,  269.,  161.,  242.,   80.,\n",
       "          58.,   59.,   16.,    8.,    2.,    1.]),\n",
       " array([ 140.,  147.,  154.,  161.,  168.,  175.,  182.,  189.,  196.,\n",
       "         203.,  210.,  217.,  224.,  231.,  238.,  245.]),\n",
       " <a list of 15 Patch objects>)"
      ]
     },
     "execution_count": 18,
     "metadata": {},
     "output_type": "execute_result"
    },
    {
     "data": {
      "image/png": "[encoded data removed]",
      "text/plain": [
       "<matplotlib.figure.Figure at 0x1062df910>"
      ]
     },
     "metadata": {},
     "output_type": "display_data"
    }
   ],
   "source": [
    "weights = np.array([float(i[3]) for i in data])\n",
    "print len(weights)\n",
    "plt.figure()\n",
    "plt.hist(weights, bins=15)"
   ]
  },
  {
   "cell_type": "markdown",
   "metadata": {},
   "source": [
    "####Avg distribution:"
   ]
  },
  {
   "cell_type": "code",
   "execution_count": 19,
   "metadata": {
    "collapsed": false
   },
   "outputs": [
    {
     "data": {
      "text/plain": [
       "(array([   1.,    0.,    0.,    0.,    1.,    4.,    6.,    7.,    7.,\n",
       "           2.,   10.,    9.,    3.,    3.,   11.,   17.,   29.,   53.,\n",
       "          70.,  113.,  130.,  137.,  105.,   76.,   52.,   26.,   10.,\n",
       "           7.,    1.,    1.]),\n",
       " array([ 0.066     ,  0.07473333,  0.08346667,  0.0922    ,  0.10093333,\n",
       "         0.10966667,  0.1184    ,  0.12713333,  0.13586667,  0.1446    ,\n",
       "         0.15333333,  0.16206667,  0.1708    ,  0.17953333,  0.18826667,\n",
       "         0.197     ,  0.20573333,  0.21446667,  0.2232    ,  0.23193333,\n",
       "         0.24066667,  0.2494    ,  0.25813333,  0.26686667,  0.2756    ,\n",
       "         0.28433333,  0.29306667,  0.3018    ,  0.31053333,  0.31926667,\n",
       "         0.328     ]),\n",
       " <a list of 30 Patch objects>)"
      ]
     },
     "execution_count": 19,
     "metadata": {},
     "output_type": "execute_result"
    },
    {
     "data": {
      "image/png": "[encoded data removed]",
      "text/plain": [
       "<matplotlib.figure.Figure at 0x10634f090>"
      ]
     },
     "metadata": {},
     "output_type": "display_data"
    },
    {
     "data": {
      "image/png": "[encoded data removed]",
      "text/plain": [
       "<matplotlib.figure.Figure at 0x106cf3650>"
      ]
     },
     "metadata": {},
     "output_type": "display_data"
    }
   ],
   "source": [
    "avg = [float(i[4]) for i in data]\n",
    "\n",
    "avgplt = np.array([float(i[4]) for i in data])\n",
    "plt.figure()\n",
    "plt.hist(avgplt, bins=30)\n",
    "\n",
    "## A lot of zeros\n",
    "avgnonzero = np.array(filter(lambda a: a > 0.0, avg))\n",
    "plt.figure()\n",
    "plt.hist(avgnonzero, bins=30)"
   ]
  },
  {
   "cell_type": "code",
   "execution_count": 20,
   "metadata": {
    "collapsed": false
   },
   "outputs": [
    {
     "data": {
      "text/plain": [
       "(array([ 524.,    3.,   26.,   26.,   11.,  488.,   12.,   25.,   42.]),\n",
       " array([ 0.,  1.,  2.,  3.,  4.,  5.,  6.,  7.,  8.,  9.]),\n",
       " <a list of 9 Patch objects>)"
      ]
     },
     "execution_count": 20,
     "metadata": {},
     "output_type": "execute_result"
    },
    {
     "data": {
      "image/png": "[encoded data removed]",
      "text/plain": [
       "<matplotlib.figure.Figure at 0x10727e250>"
      ]
     },
     "metadata": {},
     "output_type": "display_data"
    },
    {
     "data": {
      "image/png": "[encoded data removed]",
      "text/plain": [
       "<matplotlib.figure.Figure at 0x106f98810>"
      ]
     },
     "metadata": {},
     "output_type": "display_data"
    }
   ],
   "source": [
    "weights = np.array([int(i[3]) for i in data])\n",
    "plt.figure()\n",
    "plt.hist(weights, bins=30)\n",
    "\n",
    "## Quite a few rounded values divisible by 5 or 10:\n",
    "weights = np.array([int(i[3]) % 10 for i in data])\n",
    "plt.figure()\n",
    "plt.hist(weights, bins=9)"
   ]
  },
  {
   "cell_type": "markdown",
   "metadata": {},
   "source": [
    "####HR Distribution:"
   ]
  },
  {
   "cell_type": "code",
   "execution_count": 21,
   "metadata": {
    "collapsed": false
   },
   "outputs": [
    {
     "data": {
      "text/plain": [
       "(array([ 798.,  128.,   84.,   47.,   30.,   24.,   17.,    7.,    6.,\n",
       "           6.,    4.,    2.,    2.,    0.,    2.]),\n",
       " array([   0.        ,   37.53333333,   75.06666667,  112.6       ,\n",
       "         150.13333333,  187.66666667,  225.2       ,  262.73333333,\n",
       "         300.26666667,  337.8       ,  375.33333333,  412.86666667,\n",
       "         450.4       ,  487.93333333,  525.46666667,  563.        ]),\n",
       " <a list of 15 Patch objects>)"
      ]
     },
     "execution_count": 21,
     "metadata": {},
     "output_type": "execute_result"
    },
    {
     "data": {
      "image/png": "[encoded data removed]",
      "text/plain": [
       "<matplotlib.figure.Figure at 0x106cda950>"
      ]
     },
     "metadata": {},
     "output_type": "display_data"
    }
   ],
   "source": [
    "hr = np.array([float(i[5]) for i in data])\n",
    "plt.figure()\n",
    "plt.hist(hr, bins=15)"
   ]
  }
 ],
 "metadata": {
  "kernelspec": {
   "display_name": "Python 2",
   "language": "python",
   "name": "python2"
  },
  "language_info": {
   "codemirror_mode": {
    "name": "ipython",
    "version": 2
   },
   "file_extension": ".py",
   "mimetype": "text/x-python",
   "name": "python",
   "nbconvert_exporter": "python",
   "pygments_lexer": "ipython2",
   "version": "2.7.9"
  }
 },
 "nbformat": 4,
 "nbformat_minor": 0
}
